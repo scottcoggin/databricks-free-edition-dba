{
 "cells": [
  {
   "cell_type": "code",
   "execution_count": 0,
   "metadata": {
    "application/vnd.databricks.v1+cell": {
     "cellMetadata": {},
     "inputWidgets": {},
     "nuid": "611d5e88-b9c4-465b-b64c-94e6a275cb48",
     "showTitle": false,
     "tableResultSettingsMap": {},
     "title": ""
    }
   },
   "outputs": [],
   "source": [
    "CREATE SCHEMA IF NOT EXISTS 1_bronze.raw;\n",
    "CREATE SCHEMA IF NOT EXISTS 1_bronze.pf_statements;\n",
    "CREATE SCHEMA IF NOT EXISTS 1_bronze.kaggle;\n",
    "\n",
    "CREATE SCHEMA IF NOT EXISTS 2_silver.pf_statements;\n",
    "CREATE SCHEMA IF NOT EXISTS 2_silver.kaggle;\n",
    "\n",
    "CREATE SCHEMA IF NOT EXISTS 3_gold.pf_statements;\n",
    "CREATE SCHEMA IF NOT EXISTS 3_gold.kaggle;"
   ]
  }
 ],
 "metadata": {
  "application/vnd.databricks.v1+notebook": {
   "computePreferences": null,
   "dashboards": [],
   "environmentMetadata": null,
   "inputWidgetPreferences": null,
   "language": "sql",
   "notebookMetadata": {
    "sqlQueryOptions": {
     "applyAutoLimit": true,
     "catalog": "workspace",
     "schema": "default"
    }
   },
   "notebookName": "CREATE SCHEMA.dbquery.ipynb",
   "widgets": {}
  },
  "language_info": {
   "name": "sql"
  }
 },
 "nbformat": 4,
 "nbformat_minor": 0
}
